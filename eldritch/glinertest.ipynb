{
 "cells": [
  {
   "cell_type": "code",
   "execution_count": 120,
   "metadata": {},
   "outputs": [],
   "source": [
    "import spacy\n",
    "from gliner_spacy.pipeline import GlinerSpacy\n",
    "\n",
    "def eraseCap(line):\n",
    "    for i in range(len(line)):\n",
    "        if ord(line[i])>=65 and ord(line[i])<=90:\n",
    "            a=a[i:-1]\n",
    "            break"
   ]
  },
  {
   "cell_type": "code",
   "execution_count": 121,
   "metadata": {},
   "outputs": [
    {
     "data": {
      "application/vnd.jupyter.widget-view+json": {
       "model_id": "ddf19ea456374794bea4b859542752ca",
       "version_major": 2,
       "version_minor": 0
      },
      "text/plain": [
       "Fetching 4 files:   0%|          | 0/4 [00:00<?, ?it/s]"
      ]
     },
     "metadata": {},
     "output_type": "display_data"
    },
    {
     "data": {
      "text/plain": [
       "<gliner_spacy.pipeline.GlinerSpacy at 0x18ac644e650>"
      ]
     },
     "execution_count": 121,
     "metadata": {},
     "output_type": "execute_result"
    }
   ],
   "source": [
    "nlp=spacy.load(\"en_core_web_sm\")\n",
    "nlp.add_pipe(\"gliner_spacy\",config={\"labels\":[\"person\",\"adress\",\"date\",\"id\"]})"
   ]
  },
  {
   "cell_type": "code",
   "execution_count": 122,
   "metadata": {},
   "outputs": [],
   "source": [
    "a=\"ROYAUME DU MAROC CARTE NATIONALE D'IDENTITE Lellailoglasla YAHYA  NAHLI Ne le 08.09.1996 a HAY AL WIFAQ HAY AL WIFAQ FES Valable jusqu'au 17.11.2024 aleli gl pll JG7652 MH.\"\n",
    "a=a[45:-3]\n",
    "for i in range(len(a)):\n",
    "    if ord(a[i])>=65 and ord(a[i])<=90:\n",
    "        b=i\n",
    "        break\n",
    "a=a[b:-1]\n"
   ]
  },
  {
   "cell_type": "code",
   "execution_count": 123,
   "metadata": {},
   "outputs": [
    {
     "name": "stderr",
     "output_type": "stream",
     "text": [
      "Asking to truncate to max_length but no maximum length is provided and the model has no predefined maximum length. Default to no truncation.\n"
     ]
    },
    {
     "name": "stdout",
     "output_type": "stream",
     "text": [
      "YAHYA  NAHLI person\n",
      "08.09.1996 date\n",
      "HAY AL WIFAQ person\n",
      "17.11.2024 date\n",
      "JG7652 id\n"
     ]
    }
   ],
   "source": [
    "doc=nlp(a)\n",
    "\n",
    "for ent in doc.ents:\n",
    "    print(ent.text,ent.label_)\n",
    "\n",
    " #now i can get first name and first date from this code and i can get the id from the other code \n",
    " #for the adress i am gonna take the whole the sentence where everything is capitalized because the adress is capitalized"
   ]
  },
  {
   "cell_type": "code",
   "execution_count": 124,
   "metadata": {},
   "outputs": [
    {
     "name": "stdout",
     "output_type": "stream",
     "text": [
      "YAHYA  NAHLI\n",
      "08.09.1996\n",
      "JG7652\n",
      " Ne le  a HAY AL WIFAQ HAY AL WIFAQ FES Valable jusqu'au 17.11.2024 aleli gl pll \n",
      " HAY AL WIFAQ HAY AL WIFAQ FES\n"
     ]
    }
   ],
   "source": [
    "\n",
    "for ent in doc.ents:\n",
    "    if ent.label_== \"person\":\n",
    "        print( ent.text)\n",
    "        a = a.replace(ent.text, \"\")\n",
    "        \n",
    "        break\n",
    "for ent in doc.ents:\n",
    "    if ent.label_== \"date\":\n",
    "        print( ent.text)\n",
    "        a = a.replace(ent.text, \"\")\n",
    "\n",
    "        \n",
    "        break\n",
    "\n",
    "for ent in doc.ents:\n",
    "    if ent.label_== \"id\":\n",
    "        print( ent.text)\n",
    "        a = a.replace(ent.text, \"\")\n",
    "        \n",
    "        break\n",
    "\n",
    "print(a)\n",
    "for i in a :\n",
    "    if (i.isupper()==False and i !=\" \"):\n",
    "       \n",
    "        a=a.replace(i,\"\")\n",
    "a=a[5:-8]\n",
    "print(a)\n",
    "\n",
    "        "
   ]
  },
  {
   "cell_type": "code",
   "execution_count": null,
   "metadata": {},
   "outputs": [],
   "source": []
  }
 ],
 "metadata": {
  "kernelspec": {
   "display_name": "base",
   "language": "python",
   "name": "python3"
  },
  "language_info": {
   "codemirror_mode": {
    "name": "ipython",
    "version": 3
   },
   "file_extension": ".py",
   "mimetype": "text/x-python",
   "name": "python",
   "nbconvert_exporter": "python",
   "pygments_lexer": "ipython3",
   "version": "3.11.7"
  }
 },
 "nbformat": 4,
 "nbformat_minor": 2
}
